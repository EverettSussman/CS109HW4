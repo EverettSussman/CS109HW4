{
 "cells": [
  {
   "cell_type": "markdown",
   "metadata": {},
   "source": [
    "# CS 109A/STAT 121A/AC 209A/CSCI E-109A: Homework 4\n",
    "# Regularization, High Dimensionality, PCA\n",
    "\n",
    "\n",
    "**Harvard University**<br/>\n",
    "**Fall 2017**<br/>\n",
    "**Instructors**: Pavlos Protopapas, Kevin Rader, Rahul Dave, Margo Levine\n",
    "\n",
    "---\n",
    "\n",
    "### INSTRUCTIONS\n",
    "\n",
    "- To submit your assignment follow the instructions given in canvas.\n",
    "- Restart the kernel and run the whole notebook again before you submit. \n",
    "- Do not include your name(s) in the notebook even if you are submitting as a group. \n",
    "- If you submit individually and you have worked with someone, please include the name of your [one] partner below. \n",
    "\n",
    "---"
   ]
  },
  {
   "cell_type": "markdown",
   "metadata": {},
   "source": [
    "Your partner's name (if you submit separately):\n",
    "\n",
    "Enrollment Status (109A, 121A, 209A, or E109A):"
   ]
  },
  {
   "cell_type": "markdown",
   "metadata": {},
   "source": [
    "Import libraries:"
   ]
  },
  {
   "cell_type": "code",
   "execution_count": 48,
   "metadata": {},
   "outputs": [],
   "source": [
    "import numpy as np\n",
    "import pandas as pd\n",
    "import matplotlib\n",
    "import matplotlib.pyplot as plt\n",
    "import seaborn as sns\n",
    "from sklearn.metrics import r2_score\n",
    "from sklearn.decomposition import PCA\n",
    "import statsmodels.api as sm\n",
    "from statsmodels.api import OLS\n",
    "from sklearn.preprocessing import PolynomialFeatures\n",
    "from sklearn.linear_model import LinearRegression\n",
    "from sklearn.linear_model import Ridge\n",
    "from sklearn.linear_model import Lasso\n",
    "from sklearn.linear_model import RidgeCV\n",
    "from sklearn.linear_model import LassoCV\n",
    "%matplotlib inline\n",
    "sns.set_context(\"poster\")"
   ]
  },
  {
   "cell_type": "markdown",
   "metadata": {},
   "source": [
    "# Continuing Bike Sharing Usage Data\n",
    "\n",
    "In this homework, we will focus on multiple linear regression, regularization, dealing with high dimensionality, and PCA. We will continue to build regression models for the Capital Bikeshare program in Washington D.C.  See Homework 3 for more information about the data.\n",
    "\n",
    "*Note: please make sure you use all the processed data from HW 3 Part (a)...you make want to save the data set on your computer and reread the csv/json file here.\n"
   ]
  },
  {
   "cell_type": "code",
   "execution_count": 5,
   "metadata": {
    "collapsed": true
   },
   "outputs": [],
   "source": [
    "# Create Dataframes\n",
    "trainDf = pd.read_csv(\"Bikeshare_train.csv\")\n",
    "testDf = pd.read_csv(\"Bikeshare_test.csv\")\n",
    "\n",
    "# Create dummy variables\n",
    "trainBinaryDf = pd.get_dummies(trainDf, columns=[\"season\", \"month\", \"day_of_week\", \"weather\"])\n",
    "testBinaryDf = pd.get_dummies(testDf, columns=[\"season\", \"month\", \"day_of_week\", \"weather\"])\n",
    "\n",
    "# Normalize predictors\n",
    "for column in [\"temp\", \"atemp\", \"humidity\", \"windspeed\"]:\n",
    "    colMean = np.mean(trainBinaryDf[column])\n",
    "    colSD = np.std(trainBinaryDf[column])\n",
    "    trainBinaryDf[column + \"_norm\"] = [(x - colMean)/float(colSD) for x in trainBinaryDf[column]]\n",
    "    testBinaryDf[column + \"_norm\"] = [(x - colMean)/float(colSD) for x in testBinaryDf[column]]\n",
    "trainBinaryDf.head()\n",
    "\n",
    "# Drop k-th dummies\n",
    "predictors = [\"holiday\", \"workingday\", \"temp_norm\",\"atemp_norm\",\"humidity_norm\",\"windspeed_norm\",\n",
    "              \"weather_1.0\", \"weather_2.0\", \"day_of_week_0.0\", \"day_of_week_1.0\", \"day_of_week_2.0\",\n",
    "              \"day_of_week_3.0\", \"day_of_week_4.0\", \"day_of_week_5.0\", \"season_1.0\",\n",
    "              \"season_2.0\", \"season_3.0\", \"month_2.0\", \"month_3.0\", \"month_4.0\", \"month_5.0\",\n",
    "              \"month_6.0\", \"month_7.0\", \"month_8.0\", \"month_9.0\", \"month_10.0\", \"month_11.0\", \"month_12.0\", \"const\"]\n",
    "\n",
    "# Add a constant term to our predictors\n",
    "trainBinaryDf = sm.add_constant(trainBinaryDf)\n",
    "testBinaryDf = sm.add_constant(testBinaryDf)\n",
    "\n",
    "trainPredict = trainBinaryDf[predictors]\n",
    "testPredict = testBinaryDf[predictors]"
   ]
  },
  {
   "cell_type": "markdown",
   "metadata": {},
   "source": [
    "## Part (f): Regularization/Penalization Methods\n",
    "\n",
    "As an alternative to selecting a subset of predictors and fitting a regression model on the subset, one can fit a linear regression model on all predictors, but shrink or regularize the coefficient estimates to make sure that the model does not \"overfit\" the training set. \n",
    "\n",
    "Use the following regularization techniques to fit linear models to the training set:\n",
    "- Ridge regression\n",
    "- Lasso regression\n",
    "    \n",
    "You may choose the shrikage parameter $\\lambda$ from the set $\\{10^{-5}, 10^{-4},...,10^{4},10^{5}\\}$ using cross-validation. In each case, \n",
    "\n",
    "- How do the estimated coefficients compare to or differ from the coefficients estimated by a plain linear regression (without shrikage penalty) in Part (b) fropm HW 3? Is there a difference between coefficients estimated by the two shrinkage methods? If so, give an explantion for the difference.\n",
    "- List the predictors that are assigned a coefficient value close to 0 (say < 1e-10) by the two methods. How closely do these predictors match the redundant predictors (if any) identified in Part (c) from HW 3?\n",
    "- Is there a difference in the way Ridge and Lasso regression assign coefficients to the predictors `temp` and `atemp`? If so, explain the reason for the difference.\n",
    "\n",
    "We next analyze the performance of the two shrinkage methods for different training sample sizes:\n",
    "- Generate random samples of sizes 100, 150, ..., 400 from the training set. You may use the following code to draw a random sample of a specified size from the training set:"
   ]
  },
  {
   "cell_type": "code",
   "execution_count": 6,
   "metadata": {
    "collapsed": true
   },
   "outputs": [],
   "source": [
    "#--------  sample\n",
    "# A function to select a random sample of size k from the training set\n",
    "# Input: \n",
    "#      x (n x d array of predictors in training data)\n",
    "#      y (n x 1 array of response variable vals in training data)\n",
    "#      k (size of sample) \n",
    "# Return: \n",
    "#      chosen sample of predictors and responses\n",
    "\n",
    "def sample(x, y, k):\n",
    "    n = x.shape[0] # No. of training points\n",
    "    \n",
    "    # Choose random indices of size 'k'\n",
    "    subset_ind = np.random.choice(np.arange(n), k)\n",
    "    \n",
    "    # Get predictors and reponses with the indices\n",
    "    x_subset = x[subset_ind, :]\n",
    "    y_subset = y[subset_ind]\n",
    "    \n",
    "    return (x_subset, y_subset)"
   ]
  },
  {
   "cell_type": "markdown",
   "metadata": {},
   "source": [
    "- Fit linear, Ridge and Lasso regression models to each of the generated sample. In each case, compute the $R^2$ score for the model on the training sample on which it was fitted, and on the test set.\n",
    "- Repeat the above experiment for 10 random trials/splits, and compute the average train and test $R^2$ across the trials for each training sample size. Also, compute the standard deviation (SD) in each case.\n",
    "- Make a plot of the mean training $R^2$ scores for the linear, Ridge and Lasso regression methods as a function of the training sample size. Also, show a confidence interval for the mean scores extending from **mean - SD** to **mean + SD**. Make a similar plot for the test $R^2$ scores.\n",
    "\n",
    "How do the training and test $R^2$ scores compare for the three methods? Give an explanation for your observations. How do the confidence intervals for the estimated $R^2$ change with training sample size? Based on the plots, which of the three methods would you recommend when one needs to fit a regression model using a small training sample?\n",
    "\n",
    "*Hint:* You may use `sklearn`'s `RidgeCV` and `LassoCV` classes to implement Ridge and Lasso regression. These classes automatically perform cross-validation to tune the parameter $\\lambda$ from a given range of values. You may use the `plt.errorbar` function to plot confidence bars for the average $R^2$ scores."
   ]
  },
  {
   "cell_type": "code",
   "execution_count": 7,
   "metadata": {
    "collapsed": true
   },
   "outputs": [],
   "source": [
    "# Lambdas\n",
    "lambdas = [10**x for x in range(-5, 6)]\n",
    "xTrain = trainPredict\n",
    "yTrain = trainBinaryDf[\"count\"]\n",
    "\n",
    "ridgeCoefs = []\n",
    "lassoCoefs = []\n",
    "\n",
    "# Regression on entire training data set\n",
    "ridge = RidgeCV(alphas=lambdas, cv=10, fit_intercept=True)\n",
    "ridge.fit(xTrain, yTrain)\n",
    "\n",
    "ridgeCoefs = ridge.coef_\n",
    "\n",
    "lasso = LassoCV(alphas=lambdas, cv=10, max_iter=10000, fit_intercept=True)\n",
    "lasso.fit(xTrain, yTrain)\n",
    "\n",
    "lassoCoefs = lasso.coef_\n"
   ]
  },
  {
   "cell_type": "code",
   "execution_count": 8,
   "metadata": {
    "collapsed": true
   },
   "outputs": [],
   "source": [
    "HW3Model = sm.OLS(yTrain, xTrain).fit()\n",
    "HW3Coefs = HW3Model.params\n"
   ]
  },
  {
   "cell_type": "code",
   "execution_count": 9,
   "metadata": {},
   "outputs": [
    {
     "data": {
      "text/html": [
       "<div>\n",
       "<style>\n",
       "    .dataframe thead tr:only-child th {\n",
       "        text-align: right;\n",
       "    }\n",
       "\n",
       "    .dataframe thead th {\n",
       "        text-align: left;\n",
       "    }\n",
       "\n",
       "    .dataframe tbody tr th {\n",
       "        vertical-align: top;\n",
       "    }\n",
       "</style>\n",
       "<table border=\"1\" class=\"dataframe\">\n",
       "  <thead>\n",
       "    <tr style=\"text-align: right;\">\n",
       "      <th></th>\n",
       "      <th>Lasso</th>\n",
       "      <th>Original</th>\n",
       "      <th>Ridge</th>\n",
       "    </tr>\n",
       "  </thead>\n",
       "  <tbody>\n",
       "    <tr>\n",
       "      <th>0</th>\n",
       "      <td>0.563605</td>\n",
       "      <td>0.576</td>\n",
       "      <td>0.559563</td>\n",
       "    </tr>\n",
       "  </tbody>\n",
       "</table>\n",
       "</div>"
      ],
      "text/plain": [
       "      Lasso  Original     Ridge\n",
       "0  0.563605     0.576  0.559563"
      ]
     },
     "execution_count": 9,
     "metadata": {},
     "output_type": "execute_result"
    }
   ],
   "source": [
    "r2Vals = pd.DataFrame(data={\"Original\": [.576], \"Lasso\": [lasso.score(xTrain, yTrain)],\n",
    "                            \"Ridge\": [ridge.score(xTrain, yTrain)]})\n",
    "r2Vals"
   ]
  },
  {
   "cell_type": "code",
   "execution_count": 10,
   "metadata": {},
   "outputs": [
    {
     "data": {
      "text/html": [
       "<div>\n",
       "<style>\n",
       "    .dataframe thead tr:only-child th {\n",
       "        text-align: right;\n",
       "    }\n",
       "\n",
       "    .dataframe thead th {\n",
       "        text-align: left;\n",
       "    }\n",
       "\n",
       "    .dataframe tbody tr th {\n",
       "        vertical-align: top;\n",
       "    }\n",
       "</style>\n",
       "<table border=\"1\" class=\"dataframe\">\n",
       "  <thead>\n",
       "    <tr style=\"text-align: right;\">\n",
       "      <th></th>\n",
       "      <th>HW3Model</th>\n",
       "      <th>LassoModel</th>\n",
       "      <th>RidgeModel</th>\n",
       "    </tr>\n",
       "  </thead>\n",
       "  <tbody>\n",
       "    <tr>\n",
       "      <th>holiday</th>\n",
       "      <td>-616.602710</td>\n",
       "      <td>-171.307907</td>\n",
       "      <td>-235.657032</td>\n",
       "    </tr>\n",
       "    <tr>\n",
       "      <th>workingday</th>\n",
       "      <td>-24.093294</td>\n",
       "      <td>0.000000</td>\n",
       "      <td>28.943832</td>\n",
       "    </tr>\n",
       "    <tr>\n",
       "      <th>temp_norm</th>\n",
       "      <td>924.334403</td>\n",
       "      <td>615.501808</td>\n",
       "      <td>596.419466</td>\n",
       "    </tr>\n",
       "    <tr>\n",
       "      <th>atemp_norm</th>\n",
       "      <td>311.961760</td>\n",
       "      <td>473.093575</td>\n",
       "      <td>531.323759</td>\n",
       "    </tr>\n",
       "    <tr>\n",
       "      <th>humidity_norm</th>\n",
       "      <td>-547.663783</td>\n",
       "      <td>-556.194283</td>\n",
       "      <td>-558.385010</td>\n",
       "    </tr>\n",
       "    <tr>\n",
       "      <th>windspeed_norm</th>\n",
       "      <td>-254.736916</td>\n",
       "      <td>-246.996085</td>\n",
       "      <td>-264.834036</td>\n",
       "    </tr>\n",
       "    <tr>\n",
       "      <th>weather_1.0</th>\n",
       "      <td>1581.978284</td>\n",
       "      <td>759.077243</td>\n",
       "      <td>480.235213</td>\n",
       "    </tr>\n",
       "    <tr>\n",
       "      <th>weather_2.0</th>\n",
       "      <td>1565.411700</td>\n",
       "      <td>731.541784</td>\n",
       "      <td>452.456290</td>\n",
       "    </tr>\n",
       "    <tr>\n",
       "      <th>day_of_week_0.0</th>\n",
       "      <td>-465.145010</td>\n",
       "      <td>-293.747624</td>\n",
       "      <td>-268.575304</td>\n",
       "    </tr>\n",
       "    <tr>\n",
       "      <th>day_of_week_1.0</th>\n",
       "      <td>-256.650051</td>\n",
       "      <td>-204.727796</td>\n",
       "      <td>-203.553159</td>\n",
       "    </tr>\n",
       "    <tr>\n",
       "      <th>day_of_week_2.0</th>\n",
       "      <td>-328.184507</td>\n",
       "      <td>-141.402923</td>\n",
       "      <td>-169.398103</td>\n",
       "    </tr>\n",
       "    <tr>\n",
       "      <th>day_of_week_3.0</th>\n",
       "      <td>37.612773</td>\n",
       "      <td>2.027548</td>\n",
       "      <td>67.202563</td>\n",
       "    </tr>\n",
       "    <tr>\n",
       "      <th>day_of_week_4.0</th>\n",
       "      <td>-71.642544</td>\n",
       "      <td>-0.000000</td>\n",
       "      <td>15.123090</td>\n",
       "    </tr>\n",
       "    <tr>\n",
       "      <th>day_of_week_5.0</th>\n",
       "      <td>-21.831675</td>\n",
       "      <td>19.958391</td>\n",
       "      <td>83.912409</td>\n",
       "    </tr>\n",
       "    <tr>\n",
       "      <th>season_1.0</th>\n",
       "      <td>-1226.186543</td>\n",
       "      <td>-980.105861</td>\n",
       "      <td>-831.421968</td>\n",
       "    </tr>\n",
       "    <tr>\n",
       "      <th>season_2.0</th>\n",
       "      <td>-327.357503</td>\n",
       "      <td>-0.000000</td>\n",
       "      <td>-71.167428</td>\n",
       "    </tr>\n",
       "    <tr>\n",
       "      <th>season_3.0</th>\n",
       "      <td>-193.304968</td>\n",
       "      <td>-225.728921</td>\n",
       "      <td>-236.541870</td>\n",
       "    </tr>\n",
       "    <tr>\n",
       "      <th>month_2.0</th>\n",
       "      <td>88.940093</td>\n",
       "      <td>0.000000</td>\n",
       "      <td>-43.283473</td>\n",
       "    </tr>\n",
       "    <tr>\n",
       "      <th>month_3.0</th>\n",
       "      <td>239.180898</td>\n",
       "      <td>21.848502</td>\n",
       "      <td>96.419673</td>\n",
       "    </tr>\n",
       "    <tr>\n",
       "      <th>month_4.0</th>\n",
       "      <td>333.349086</td>\n",
       "      <td>105.307226</td>\n",
       "      <td>243.948855</td>\n",
       "    </tr>\n",
       "    <tr>\n",
       "      <th>month_5.0</th>\n",
       "      <td>-65.812500</td>\n",
       "      <td>-0.000000</td>\n",
       "      <td>57.943527</td>\n",
       "    </tr>\n",
       "    <tr>\n",
       "      <th>month_6.0</th>\n",
       "      <td>-792.262899</td>\n",
       "      <td>-409.762166</td>\n",
       "      <td>-357.529453</td>\n",
       "    </tr>\n",
       "    <tr>\n",
       "      <th>month_7.0</th>\n",
       "      <td>-1279.987006</td>\n",
       "      <td>-633.987086</td>\n",
       "      <td>-578.242146</td>\n",
       "    </tr>\n",
       "    <tr>\n",
       "      <th>month_8.0</th>\n",
       "      <td>-776.475490</td>\n",
       "      <td>-79.491851</td>\n",
       "      <td>-151.051370</td>\n",
       "    </tr>\n",
       "    <tr>\n",
       "      <th>month_9.0</th>\n",
       "      <td>405.144566</td>\n",
       "      <td>743.960587</td>\n",
       "      <td>640.829392</td>\n",
       "    </tr>\n",
       "    <tr>\n",
       "      <th>month_10.0</th>\n",
       "      <td>486.250904</td>\n",
       "      <td>673.115269</td>\n",
       "      <td>607.588625</td>\n",
       "    </tr>\n",
       "    <tr>\n",
       "      <th>month_11.0</th>\n",
       "      <td>112.681645</td>\n",
       "      <td>114.448501</td>\n",
       "      <td>192.866358</td>\n",
       "    </tr>\n",
       "    <tr>\n",
       "      <th>month_12.0</th>\n",
       "      <td>-118.835819</td>\n",
       "      <td>-0.000000</td>\n",
       "      <td>-60.494888</td>\n",
       "    </tr>\n",
       "    <tr>\n",
       "      <th>const</th>\n",
       "      <td>3791.129801</td>\n",
       "      <td>4189.010483</td>\n",
       "      <td>4401.735647</td>\n",
       "    </tr>\n",
       "  </tbody>\n",
       "</table>\n",
       "</div>"
      ],
      "text/plain": [
       "                    HW3Model   LassoModel   RidgeModel\n",
       "holiday          -616.602710  -171.307907  -235.657032\n",
       "workingday        -24.093294     0.000000    28.943832\n",
       "temp_norm         924.334403   615.501808   596.419466\n",
       "atemp_norm        311.961760   473.093575   531.323759\n",
       "humidity_norm    -547.663783  -556.194283  -558.385010\n",
       "windspeed_norm   -254.736916  -246.996085  -264.834036\n",
       "weather_1.0      1581.978284   759.077243   480.235213\n",
       "weather_2.0      1565.411700   731.541784   452.456290\n",
       "day_of_week_0.0  -465.145010  -293.747624  -268.575304\n",
       "day_of_week_1.0  -256.650051  -204.727796  -203.553159\n",
       "day_of_week_2.0  -328.184507  -141.402923  -169.398103\n",
       "day_of_week_3.0    37.612773     2.027548    67.202563\n",
       "day_of_week_4.0   -71.642544    -0.000000    15.123090\n",
       "day_of_week_5.0   -21.831675    19.958391    83.912409\n",
       "season_1.0      -1226.186543  -980.105861  -831.421968\n",
       "season_2.0       -327.357503    -0.000000   -71.167428\n",
       "season_3.0       -193.304968  -225.728921  -236.541870\n",
       "month_2.0          88.940093     0.000000   -43.283473\n",
       "month_3.0         239.180898    21.848502    96.419673\n",
       "month_4.0         333.349086   105.307226   243.948855\n",
       "month_5.0         -65.812500    -0.000000    57.943527\n",
       "month_6.0        -792.262899  -409.762166  -357.529453\n",
       "month_7.0       -1279.987006  -633.987086  -578.242146\n",
       "month_8.0        -776.475490   -79.491851  -151.051370\n",
       "month_9.0         405.144566   743.960587   640.829392\n",
       "month_10.0        486.250904   673.115269   607.588625\n",
       "month_11.0        112.681645   114.448501   192.866358\n",
       "month_12.0       -118.835819    -0.000000   -60.494888\n",
       "const            3791.129801  4189.010483  4401.735647"
      ]
     },
     "execution_count": 10,
     "metadata": {},
     "output_type": "execute_result"
    }
   ],
   "source": [
    "ridgeCoefs[-1] = ridge.intercept_\n",
    "lassoCoefs[-1] = lasso.intercept_\n",
    "coefsTable = pd.DataFrame(data={\"HW3Model\": HW3Coefs, \"RidgeModel\": ridgeCoefs, \"LassoModel\": lassoCoefs})\n",
    "coefsTable.head(50)"
   ]
  },
  {
   "cell_type": "code",
   "execution_count": 11,
   "metadata": {
    "collapsed": true
   },
   "outputs": [],
   "source": [
    "xTest = testPredict\n",
    "yTest = testBinaryDf[\"count\"]"
   ]
  },
  {
   "cell_type": "code",
   "execution_count": 12,
   "metadata": {
    "collapsed": true
   },
   "outputs": [],
   "source": [
    "def randSampleR2(k):\n",
    "    \"\"\"k is the sample size\n",
    "    outputs R2 values for linear, lasso, ridge regression models\"\"\"\n",
    "    \n",
    "    xSub, ySub = sample(xTrain.as_matrix(), yTrain.as_matrix(), k)\n",
    "    \n",
    "    ridge = RidgeCV(alphas=lambdas, cv=10, fit_intercept=True)\n",
    "    ridge.fit(xSub, ySub)\n",
    "    \n",
    "    lasso = LassoCV(alphas=lambdas, cv=10, fit_intercept=True, max_iter=10000)\n",
    "    lasso.fit(xSub, ySub)\n",
    "    \n",
    "    linear = sm.OLS(ySub, xSub).fit()\n",
    "    \n",
    "    yHat = linear.predict(xTest)\n",
    "    \n",
    "    \n",
    "    return linear.rsquared, lasso.score(xSub, ySub), ridge.score(xSub, ySub), \\\n",
    "           r2_score(yTest, yHat), lasso.score(xTest, yTest), ridge.score(xTest, yTest)"
   ]
  },
  {
   "cell_type": "code",
   "execution_count": 13,
   "metadata": {
    "collapsed": true
   },
   "outputs": [],
   "source": [
    "sampleSizes = np.arange(100, 450, 50)\n",
    "\n",
    "rSquaredBootStrap = {\"sampleSize\": sampleSizes, \"linearTrain\": [], \"lassoTrain\": [],\n",
    "                     \"ridgeTrain\": [], \"linearTest\": [], \"lassoTest\": [], \"ridgeTest\": []}\n",
    "for k in sampleSizes:\n",
    "    linearTestR2 = []\n",
    "    lassoTestR2 = []\n",
    "    ridgeTestR2 = []\n",
    "    linearTrainR2 = []\n",
    "    lassoTrainR2 = []\n",
    "    ridgeTrainR2 = []\n",
    "    for _ in range(10):\n",
    "        linTrain, lasTrain, ridTrain, linTest, lasTest, ridTest = randSampleR2(k)\n",
    "        linearTrainR2.append(linTrain)\n",
    "        lassoTrainR2.append(lasTrain)\n",
    "        ridgeTrainR2.append(ridTrain)\n",
    "        linearTestR2.append(linTest)\n",
    "        lassoTestR2.append(lasTest)\n",
    "        ridgeTestR2.append(ridTest)\n",
    "        \n",
    "    rSquaredBootStrap[\"linearTrain\"].append(linearTrainR2)\n",
    "    rSquaredBootStrap[\"lassoTrain\"].append(lassoTrainR2)\n",
    "    rSquaredBootStrap[\"ridgeTrain\"].append(ridgeTrainR2)\n",
    "    rSquaredBootStrap[\"linearTest\"].append(linearTestR2)\n",
    "    rSquaredBootStrap[\"lassoTest\"].append(lassoTestR2)\n",
    "    rSquaredBootStrap[\"ridgeTest\"].append(ridgeTestR2)"
   ]
  },
  {
   "cell_type": "code",
   "execution_count": 14,
   "metadata": {},
   "outputs": [
    {
     "data": {
      "text/plain": [
       "<matplotlib.legend.Legend at 0x11687afd0>"
      ]
     },
     "execution_count": 14,
     "metadata": {},
     "output_type": "execute_result"
    },
    {
     "data": {
      "image/png": "[encoded data removed]",
      "text/plain": [
       "<matplotlib.figure.Figure at 0x115f88f28>"
      ]
     },
     "metadata": {},
     "output_type": "display_data"
    }
   ],
   "source": [
    "fig, ax = plt.subplots()\n",
    "\n",
    "linTrainMeans = [np.mean(x) for x in rSquaredBootStrap[\"linearTrain\"]]\n",
    "linTrainSDs = [np.std(x) for x in rSquaredBootStrap[\"linearTrain\"]]\n",
    "lasTrainMeans = [np.mean(x) for x in rSquaredBootStrap[\"lassoTrain\"]]\n",
    "lasTrainSDs = [np.std(x) for x in rSquaredBootStrap[\"lassoTrain\"]]\n",
    "ridTrainMeans = [np.mean(x) for x in rSquaredBootStrap[\"ridgeTrain\"]]\n",
    "ridTrainSDs = [np.std(x) for x in rSquaredBootStrap[\"ridgeTrain\"]]\n",
    "\n",
    "ax.set_title(\"Bootstrap Train $R^2$\")\n",
    "ax.set_xlabel(\"Sample Size\")\n",
    "ax.set_ylabel(\"$R^2$\")\n",
    "\n",
    "ax.errorbar(rSquaredBootStrap[\"sampleSize\"], linTrainMeans, linTrainSDs, label=\"Linear\", alpha=.6)\n",
    "ax.errorbar(rSquaredBootStrap[\"sampleSize\"], lasTrainMeans, lasTrainSDs, label=\"Lasso\", alpha=.6)\n",
    "ax.errorbar(rSquaredBootStrap[\"sampleSize\"], ridTrainMeans, ridTrainSDs, label=\"Ridge\", alpha=.6)\n",
    "ax.legend()\n"
   ]
  },
  {
   "cell_type": "code",
   "execution_count": 15,
   "metadata": {},
   "outputs": [
    {
     "data": {
      "text/plain": [
       "<matplotlib.legend.Legend at 0x116d35c18>"
      ]
     },
     "execution_count": 15,
     "metadata": {},
     "output_type": "execute_result"
    },
    {
     "data": {
      "image/png": "[encoded data removed]",
      "text/plain": [
       "<matplotlib.figure.Figure at 0x1168af160>"
      ]
     },
     "metadata": {},
     "output_type": "display_data"
    }
   ],
   "source": [
    "fig, ax = plt.subplots()\n",
    "\n",
    "linTestMeans = [np.mean(x) for x in rSquaredBootStrap[\"linearTest\"]]\n",
    "linTestSDs = [np.std(x) for x in rSquaredBootStrap[\"linearTest\"]]\n",
    "lasTestMeans = [np.mean(x) for x in rSquaredBootStrap[\"lassoTest\"]]\n",
    "lasTestSDs = [np.std(x) for x in rSquaredBootStrap[\"lassoTest\"]]\n",
    "ridTestMeans = [np.mean(x) for x in rSquaredBootStrap[\"ridgeTest\"]]\n",
    "ridTestSDs = [np.std(x) for x in rSquaredBootStrap[\"ridgeTest\"]]\n",
    "\n",
    "ax.set_title(\"Bootstrap Test $R^2$\")\n",
    "ax.set_xlabel(\"Sample Size\")\n",
    "ax.set_ylabel(\"$R^2$\")\n",
    "\n",
    "ax.errorbar(rSquaredBootStrap[\"sampleSize\"], linTestMeans, linTestSDs, label=\"Linear\", alpha=.6)\n",
    "ax.errorbar(rSquaredBootStrap[\"sampleSize\"], lasTestMeans, lasTestSDs, label=\"Lasso\", alpha=.6)\n",
    "ax.errorbar(rSquaredBootStrap[\"sampleSize\"], ridTestMeans, ridTestSDs, label=\"Ridge\", alpha=.6)\n",
    "ax.legend()"
   ]
  },
  {
   "cell_type": "markdown",
   "metadata": {},
   "source": [
    "## Part (g): Polynomial & Interaction Terms\n",
    "\n",
    "Moving beyond linear models, we will now try to improve the performance of the regression model in Part (b) from HW 3 by including higher-order polynomial and interaction terms. \n",
    "\n",
    "- For each continuous predictor $X_j$, include additional polynomial terms $X^2_j$, $X^3_j$, and $X^4_j$, and fit a multiple regression model to the expanded training set. How does the $R^2$ of this model on the test set compare with that of the linear model fitted in Part (b) from HW 3? Using a t-test, find out which of estimated coefficients for the polynomial terms are statistically significant at a significance level of 5%. \n",
    "\n",
    "- Fit a multiple linear regression model with additional interaction terms $\\mathbb{I}_{month = 12} \\times temp$ and $\\mathbb{I}_{workingday = 1} \\times \\mathbb{I}_{weathersit = 1}$ and report the test $R^2$ for the fitted model. How does this compare with the $R^2$ obtained using linear model in Part (b) from HW 3? Are the estimated coefficients for the interaction terms statistically significant at a significance level of 5%?"
   ]
  },
  {
   "cell_type": "code",
   "execution_count": 16,
   "metadata": {
    "collapsed": true
   },
   "outputs": [],
   "source": [
    "# Generate polynomial features\n",
    "multTrainPredict = trainPredict.copy()\n",
    "multTestPredict = testPredict.copy()\n",
    "\n",
    "for i in range(2,5):\n",
    "    for var in [\"temp_norm\", \"atemp_norm\", \"humidity_norm\", \"windspeed_norm\"]:\n",
    "        multTrainPredict[\"{}_{}\".format(var, i)] = multTrainPredict[var]**i\n",
    "        multTestPredict[\"{}_{}\".format(var, i)] = multTestPredict[var]**i"
   ]
  },
  {
   "cell_type": "code",
   "execution_count": 17,
   "metadata": {},
   "outputs": [
    {
     "data": {
      "text/html": [
       "<table class=\"simpletable\">\n",
       "<caption>OLS Regression Results</caption>\n",
       "<tr>\n",
       "  <th>Dep. Variable:</th>          <td>count</td>      <th>  R-squared:         </th> <td>   0.670</td>\n",
       "</tr>\n",
       "<tr>\n",
       "  <th>Model:</th>                   <td>OLS</td>       <th>  Adj. R-squared:    </th> <td>   0.625</td>\n",
       "</tr>\n",
       "<tr>\n",
       "  <th>Method:</th>             <td>Least Squares</td>  <th>  F-statistic:       </th> <td>   15.13</td>\n",
       "</tr>\n",
       "<tr>\n",
       "  <th>Date:</th>             <td>Mon, 09 Oct 2017</td> <th>  Prob (F-statistic):</th> <td>7.98e-50</td>\n",
       "</tr>\n",
       "<tr>\n",
       "  <th>Time:</th>                 <td>18:57:29</td>     <th>  Log-Likelihood:    </th> <td> -2790.9</td>\n",
       "</tr>\n",
       "<tr>\n",
       "  <th>No. Observations:</th>      <td>   331</td>      <th>  AIC:               </th> <td>   5662.</td>\n",
       "</tr>\n",
       "<tr>\n",
       "  <th>Df Residuals:</th>          <td>   291</td>      <th>  BIC:               </th> <td>   5814.</td>\n",
       "</tr>\n",
       "<tr>\n",
       "  <th>Df Model:</th>              <td>    39</td>      <th>                     </th>     <td> </td>   \n",
       "</tr>\n",
       "<tr>\n",
       "  <th>Covariance Type:</th>      <td>nonrobust</td>    <th>                     </th>     <td> </td>   \n",
       "</tr>\n",
       "</table>\n",
       "<table class=\"simpletable\">\n",
       "<tr>\n",
       "          <td></td>            <th>coef</th>     <th>std err</th>      <th>t</th>      <th>P>|t|</th>  <th>[0.025</th>    <th>0.975]</th>  \n",
       "</tr>\n",
       "<tr>\n",
       "  <th>holiday</th>          <td> -526.2557</td> <td>  372.773</td> <td>   -1.412</td> <td> 0.159</td> <td>-1259.929</td> <td>  207.418</td>\n",
       "</tr>\n",
       "<tr>\n",
       "  <th>workingday</th>       <td>   14.7858</td> <td>  159.059</td> <td>    0.093</td> <td> 0.926</td> <td> -298.265</td> <td>  327.837</td>\n",
       "</tr>\n",
       "<tr>\n",
       "  <th>temp_norm</th>        <td>  770.3204</td> <td>  758.967</td> <td>    1.015</td> <td> 0.311</td> <td> -723.441</td> <td> 2264.082</td>\n",
       "</tr>\n",
       "<tr>\n",
       "  <th>atemp_norm</th>       <td>  895.9192</td> <td>  712.094</td> <td>    1.258</td> <td> 0.209</td> <td> -505.588</td> <td> 2297.426</td>\n",
       "</tr>\n",
       "<tr>\n",
       "  <th>humidity_norm</th>    <td> -667.9033</td> <td>  157.118</td> <td>   -4.251</td> <td> 0.000</td> <td> -977.136</td> <td> -358.671</td>\n",
       "</tr>\n",
       "<tr>\n",
       "  <th>windspeed_norm</th>   <td> -445.8335</td> <td>  148.704</td> <td>   -2.998</td> <td> 0.003</td> <td> -738.505</td> <td> -153.162</td>\n",
       "</tr>\n",
       "<tr>\n",
       "  <th>weather_1.0</th>      <td> 1043.9997</td> <td>  546.051</td> <td>    1.912</td> <td> 0.057</td> <td>  -30.710</td> <td> 2118.709</td>\n",
       "</tr>\n",
       "<tr>\n",
       "  <th>weather_2.0</th>      <td> 1103.0116</td> <td>  499.023</td> <td>    2.210</td> <td> 0.028</td> <td>  120.859</td> <td> 2085.164</td>\n",
       "</tr>\n",
       "<tr>\n",
       "  <th>day_of_week_0.0</th>  <td> -471.0834</td> <td>  246.557</td> <td>   -1.911</td> <td> 0.057</td> <td> -956.345</td> <td>   14.178</td>\n",
       "</tr>\n",
       "<tr>\n",
       "  <th>day_of_week_1.0</th>  <td> -227.9217</td> <td>  157.372</td> <td>   -1.448</td> <td> 0.149</td> <td> -537.653</td> <td>   81.809</td>\n",
       "</tr>\n",
       "<tr>\n",
       "  <th>day_of_week_2.0</th>  <td> -268.0232</td> <td>  186.488</td> <td>   -1.437</td> <td> 0.152</td> <td> -635.060</td> <td>   99.014</td>\n",
       "</tr>\n",
       "<tr>\n",
       "  <th>day_of_week_3.0</th>  <td>   13.1360</td> <td>  196.966</td> <td>    0.067</td> <td> 0.947</td> <td> -374.522</td> <td>  400.794</td>\n",
       "</tr>\n",
       "<tr>\n",
       "  <th>day_of_week_4.0</th>  <td> -104.0028</td> <td>  189.352</td> <td>   -0.549</td> <td> 0.583</td> <td> -476.675</td> <td>  268.669</td>\n",
       "</tr>\n",
       "<tr>\n",
       "  <th>day_of_week_5.0</th>  <td>   75.3419</td> <td>  184.193</td> <td>    0.409</td> <td> 0.683</td> <td> -287.178</td> <td>  437.861</td>\n",
       "</tr>\n",
       "<tr>\n",
       "  <th>season_1.0</th>       <td>-1523.2288</td> <td>  467.580</td> <td>   -3.258</td> <td> 0.001</td> <td>-2443.496</td> <td> -602.961</td>\n",
       "</tr>\n",
       "<tr>\n",
       "  <th>season_2.0</th>       <td> -756.7981</td> <td>  536.808</td> <td>   -1.410</td> <td> 0.160</td> <td>-1813.316</td> <td>  299.720</td>\n",
       "</tr>\n",
       "<tr>\n",
       "  <th>season_3.0</th>       <td>   55.5255</td> <td>  419.974</td> <td>    0.132</td> <td> 0.895</td> <td> -771.046</td> <td>  882.097</td>\n",
       "</tr>\n",
       "<tr>\n",
       "  <th>month_2.0</th>        <td> -325.0686</td> <td>  409.611</td> <td>   -0.794</td> <td> 0.428</td> <td>-1131.245</td> <td>  481.108</td>\n",
       "</tr>\n",
       "<tr>\n",
       "  <th>month_3.0</th>        <td> -304.8491</td> <td>  446.028</td> <td>   -0.683</td> <td> 0.495</td> <td>-1182.700</td> <td>  573.002</td>\n",
       "</tr>\n",
       "<tr>\n",
       "  <th>month_4.0</th>        <td> -418.0245</td> <td>  639.524</td> <td>   -0.654</td> <td> 0.514</td> <td>-1676.703</td> <td>  840.654</td>\n",
       "</tr>\n",
       "<tr>\n",
       "  <th>month_5.0</th>        <td>-1037.2042</td> <td>  677.186</td> <td>   -1.532</td> <td> 0.127</td> <td>-2370.008</td> <td>  295.599</td>\n",
       "</tr>\n",
       "<tr>\n",
       "  <th>month_6.0</th>        <td>-1456.1857</td> <td>  697.520</td> <td>   -2.088</td> <td> 0.038</td> <td>-2829.010</td> <td>  -83.362</td>\n",
       "</tr>\n",
       "<tr>\n",
       "  <th>month_7.0</th>        <td>-1416.9882</td> <td>  749.751</td> <td>   -1.890</td> <td> 0.060</td> <td>-2892.610</td> <td>   58.634</td>\n",
       "</tr>\n",
       "<tr>\n",
       "  <th>month_8.0</th>        <td>-1715.9389</td> <td>  743.240</td> <td>   -2.309</td> <td> 0.022</td> <td>-3178.747</td> <td> -253.131</td>\n",
       "</tr>\n",
       "<tr>\n",
       "  <th>month_9.0</th>        <td>-1073.4008</td> <td>  660.859</td> <td>   -1.624</td> <td> 0.105</td> <td>-2374.069</td> <td>  227.268</td>\n",
       "</tr>\n",
       "<tr>\n",
       "  <th>month_10.0</th>       <td> -925.8710</td> <td>  617.522</td> <td>   -1.499</td> <td> 0.135</td> <td>-2141.247</td> <td>  289.505</td>\n",
       "</tr>\n",
       "<tr>\n",
       "  <th>month_11.0</th>       <td> -825.5328</td> <td>  591.138</td> <td>   -1.397</td> <td> 0.164</td> <td>-1988.981</td> <td>  337.916</td>\n",
       "</tr>\n",
       "<tr>\n",
       "  <th>month_12.0</th>       <td> -555.6676</td> <td>  479.543</td> <td>   -1.159</td> <td> 0.248</td> <td>-1499.481</td> <td>  388.146</td>\n",
       "</tr>\n",
       "<tr>\n",
       "  <th>const</th>            <td> 5985.5838</td> <td>  836.335</td> <td>    7.157</td> <td> 0.000</td> <td> 4339.552</td> <td> 7631.616</td>\n",
       "</tr>\n",
       "<tr>\n",
       "  <th>temp_norm_2</th>      <td>-1805.5466</td> <td>  814.442</td> <td>   -2.217</td> <td> 0.027</td> <td>-3408.491</td> <td> -202.602</td>\n",
       "</tr>\n",
       "<tr>\n",
       "  <th>atemp_norm_2</th>     <td> 1171.9491</td> <td>  786.481</td> <td>    1.490</td> <td> 0.137</td> <td> -375.962</td> <td> 2719.861</td>\n",
       "</tr>\n",
       "<tr>\n",
       "  <th>humidity_norm_2</th>  <td>  -53.5087</td> <td>  154.914</td> <td>   -0.345</td> <td> 0.730</td> <td> -358.402</td> <td>  251.384</td>\n",
       "</tr>\n",
       "<tr>\n",
       "  <th>windspeed_norm_2</th> <td>  -34.0621</td> <td>  126.569</td> <td>   -0.269</td> <td> 0.788</td> <td> -283.168</td> <td>  215.044</td>\n",
       "</tr>\n",
       "<tr>\n",
       "  <th>temp_norm_3</th>      <td>    8.5688</td> <td>  274.482</td> <td>    0.031</td> <td> 0.975</td> <td> -531.653</td> <td>  548.790</td>\n",
       "</tr>\n",
       "<tr>\n",
       "  <th>atemp_norm_3</th>     <td> -302.5595</td> <td>  244.983</td> <td>   -1.235</td> <td> 0.218</td> <td> -784.722</td> <td>  179.603</td>\n",
       "</tr>\n",
       "<tr>\n",
       "  <th>humidity_norm_3</th>  <td>  -15.9849</td> <td>   44.689</td> <td>   -0.358</td> <td> 0.721</td> <td> -103.940</td> <td>   71.970</td>\n",
       "</tr>\n",
       "<tr>\n",
       "  <th>windspeed_norm_3</th> <td>   44.6309</td> <td>   65.163</td> <td>    0.685</td> <td> 0.494</td> <td>  -83.619</td> <td>  172.881</td>\n",
       "</tr>\n",
       "<tr>\n",
       "  <th>temp_norm_4</th>      <td>  -44.9184</td> <td>  170.385</td> <td>   -0.264</td> <td> 0.792</td> <td> -380.261</td> <td>  290.425</td>\n",
       "</tr>\n",
       "<tr>\n",
       "  <th>atemp_norm_4</th>     <td>  -20.6433</td> <td>  146.714</td> <td>   -0.141</td> <td> 0.888</td> <td> -309.398</td> <td>  268.112</td>\n",
       "</tr>\n",
       "<tr>\n",
       "  <th>humidity_norm_4</th>  <td>  -24.6869</td> <td>   31.291</td> <td>   -0.789</td> <td> 0.431</td> <td>  -86.272</td> <td>   36.898</td>\n",
       "</tr>\n",
       "<tr>\n",
       "  <th>windspeed_norm_4</th> <td>  -20.0552</td> <td>   30.144</td> <td>   -0.665</td> <td> 0.506</td> <td>  -79.382</td> <td>   39.272</td>\n",
       "</tr>\n",
       "</table>\n",
       "<table class=\"simpletable\">\n",
       "<tr>\n",
       "  <th>Omnibus:</th>       <td>29.995</td> <th>  Durbin-Watson:     </th> <td>   1.959</td>\n",
       "</tr>\n",
       "<tr>\n",
       "  <th>Prob(Omnibus):</th> <td> 0.000</td> <th>  Jarque-Bera (JB):  </th> <td>  10.202</td>\n",
       "</tr>\n",
       "<tr>\n",
       "  <th>Skew:</th>          <td>-0.094</td> <th>  Prob(JB):          </th> <td> 0.00609</td>\n",
       "</tr>\n",
       "<tr>\n",
       "  <th>Kurtosis:</th>      <td> 2.161</td> <th>  Cond. No.          </th> <td>3.54e+16</td>\n",
       "</tr>\n",
       "</table>"
      ],
      "text/plain": [
       "<class 'statsmodels.iolib.summary.Summary'>\n",
       "\"\"\"\n",
       "                            OLS Regression Results                            \n",
       "==============================================================================\n",
       "Dep. Variable:                  count   R-squared:                       0.670\n",
       "Model:                            OLS   Adj. R-squared:                  0.625\n",
       "Method:                 Least Squares   F-statistic:                     15.13\n",
       "Date:                Mon, 09 Oct 2017   Prob (F-statistic):           7.98e-50\n",
       "Time:                        18:57:29   Log-Likelihood:                -2790.9\n",
       "No. Observations:                 331   AIC:                             5662.\n",
       "Df Residuals:                     291   BIC:                             5814.\n",
       "Df Model:                          39                                         \n",
       "Covariance Type:            nonrobust                                         \n",
       "====================================================================================\n",
       "                       coef    std err          t      P>|t|      [0.025      0.975]\n",
       "------------------------------------------------------------------------------------\n",
       "holiday           -526.2557    372.773     -1.412      0.159   -1259.929     207.418\n",
       "workingday          14.7858    159.059      0.093      0.926    -298.265     327.837\n",
       "temp_norm          770.3204    758.967      1.015      0.311    -723.441    2264.082\n",
       "atemp_norm         895.9192    712.094      1.258      0.209    -505.588    2297.426\n",
       "humidity_norm     -667.9033    157.118     -4.251      0.000    -977.136    -358.671\n",
       "windspeed_norm    -445.8335    148.704     -2.998      0.003    -738.505    -153.162\n",
       "weather_1.0       1043.9997    546.051      1.912      0.057     -30.710    2118.709\n",
       "weather_2.0       1103.0116    499.023      2.210      0.028     120.859    2085.164\n",
       "day_of_week_0.0   -471.0834    246.557     -1.911      0.057    -956.345      14.178\n",
       "day_of_week_1.0   -227.9217    157.372     -1.448      0.149    -537.653      81.809\n",
       "day_of_week_2.0   -268.0232    186.488     -1.437      0.152    -635.060      99.014\n",
       "day_of_week_3.0     13.1360    196.966      0.067      0.947    -374.522     400.794\n",
       "day_of_week_4.0   -104.0028    189.352     -0.549      0.583    -476.675     268.669\n",
       "day_of_week_5.0     75.3419    184.193      0.409      0.683    -287.178     437.861\n",
       "season_1.0       -1523.2288    467.580     -3.258      0.001   -2443.496    -602.961\n",
       "season_2.0        -756.7981    536.808     -1.410      0.160   -1813.316     299.720\n",
       "season_3.0          55.5255    419.974      0.132      0.895    -771.046     882.097\n",
       "month_2.0         -325.0686    409.611     -0.794      0.428   -1131.245     481.108\n",
       "month_3.0         -304.8491    446.028     -0.683      0.495   -1182.700     573.002\n",
       "month_4.0         -418.0245    639.524     -0.654      0.514   -1676.703     840.654\n",
       "month_5.0        -1037.2042    677.186     -1.532      0.127   -2370.008     295.599\n",
       "month_6.0        -1456.1857    697.520     -2.088      0.038   -2829.010     -83.362\n",
       "month_7.0        -1416.9882    749.751     -1.890      0.060   -2892.610      58.634\n",
       "month_8.0        -1715.9389    743.240     -2.309      0.022   -3178.747    -253.131\n",
       "month_9.0        -1073.4008    660.859     -1.624      0.105   -2374.069     227.268\n",
       "month_10.0        -925.8710    617.522     -1.499      0.135   -2141.247     289.505\n",
       "month_11.0        -825.5328    591.138     -1.397      0.164   -1988.981     337.916\n",
       "month_12.0        -555.6676    479.543     -1.159      0.248   -1499.481     388.146\n",
       "const             5985.5838    836.335      7.157      0.000    4339.552    7631.616\n",
       "temp_norm_2      -1805.5466    814.442     -2.217      0.027   -3408.491    -202.602\n",
       "atemp_norm_2      1171.9491    786.481      1.490      0.137    -375.962    2719.861\n",
       "humidity_norm_2    -53.5087    154.914     -0.345      0.730    -358.402     251.384\n",
       "windspeed_norm_2   -34.0621    126.569     -0.269      0.788    -283.168     215.044\n",
       "temp_norm_3          8.5688    274.482      0.031      0.975    -531.653     548.790\n",
       "atemp_norm_3      -302.5595    244.983     -1.235      0.218    -784.722     179.603\n",
       "humidity_norm_3    -15.9849     44.689     -0.358      0.721    -103.940      71.970\n",
       "windspeed_norm_3    44.6309     65.163      0.685      0.494     -83.619     172.881\n",
       "temp_norm_4        -44.9184    170.385     -0.264      0.792    -380.261     290.425\n",
       "atemp_norm_4       -20.6433    146.714     -0.141      0.888    -309.398     268.112\n",
       "humidity_norm_4    -24.6869     31.291     -0.789      0.431     -86.272      36.898\n",
       "windspeed_norm_4   -20.0552     30.144     -0.665      0.506     -79.382      39.272\n",
       "==============================================================================\n",
       "Omnibus:                       29.995   Durbin-Watson:                   1.959\n",
       "Prob(Omnibus):                  0.000   Jarque-Bera (JB):               10.202\n",
       "Skew:                          -0.094   Prob(JB):                      0.00609\n",
       "Kurtosis:                       2.161   Cond. No.                     3.54e+16\n",
       "==============================================================================\n",
       "\n",
       "Warnings:\n",
       "[1] Standard Errors assume that the covariance matrix of the errors is correctly specified.\n",
       "[2] The smallest eigenvalue is 3.1e-29. This might indicate that there are\n",
       "strong multicollinearity problems or that the design matrix is singular.\n",
       "\"\"\""
      ]
     },
     "execution_count": 17,
     "metadata": {},
     "output_type": "execute_result"
    }
   ],
   "source": [
    "# Fit OLS model\n",
    "multModel = sm.OLS(yTrain, multTrainPredict).fit()\n",
    "multModel.summary()"
   ]
  },
  {
   "cell_type": "markdown",
   "metadata": {},
   "source": [
    "# Analysis of summary\n",
    "*temp_norm_2* is the only significant term."
   ]
  },
  {
   "cell_type": "code",
   "execution_count": 18,
   "metadata": {},
   "outputs": [
    {
     "data": {
      "text/plain": [
       "0.27723843508616397"
      ]
     },
     "execution_count": 18,
     "metadata": {},
     "output_type": "execute_result"
    }
   ],
   "source": [
    "yHatTest = multModel.predict(multTestPredict)\n",
    "r2_score(yTest, yHatTest)"
   ]
  },
  {
   "cell_type": "markdown",
   "metadata": {
    "collapsed": true
   },
   "source": [
    "# Analysis of R^2 on Test Data\n",
    ".277 > .249 - did better."
   ]
  },
  {
   "cell_type": "code",
   "execution_count": 19,
   "metadata": {
    "collapsed": true
   },
   "outputs": [],
   "source": [
    "# Generate additional interaction features\n",
    "intTrainPredict = multTrainPredict.copy()\n",
    "intTestPredict = multTestPredict.copy()\n",
    "\n",
    "# Add month=12 x temp interaction terms\n",
    "intTrainPredict[\"month_12xtemp_norm\"] = intTrainPredict[\"month_12.0\"] * intTrainPredict[\"temp_norm\"]\n",
    "intTestPredict[\"month_12xtemp_norm\"] = intTestPredict[\"month_12.0\"] * intTestPredict[\"temp_norm\"]\n",
    "\n",
    "# Add workingday x weathersit=1 interaction terms\n",
    "intTrainPredict[\"workingdayxweather_1\"] = intTrainPredict[\"workingday\"] * intTrainPredict[\"weather_1.0\"]\n",
    "intTestPredict[\"workingdayxweather_1\"] = intTestPredict[\"workingday\"] * intTestPredict[\"weather_1.0\"]"
   ]
  },
  {
   "cell_type": "code",
   "execution_count": 20,
   "metadata": {},
   "outputs": [
    {
     "data": {
      "text/html": [
       "<table class=\"simpletable\">\n",
       "<caption>OLS Regression Results</caption>\n",
       "<tr>\n",
       "  <th>Dep. Variable:</th>          <td>count</td>      <th>  R-squared:         </th> <td>   0.670</td>\n",
       "</tr>\n",
       "<tr>\n",
       "  <th>Model:</th>                   <td>OLS</td>       <th>  Adj. R-squared:    </th> <td>   0.623</td>\n",
       "</tr>\n",
       "<tr>\n",
       "  <th>Method:</th>             <td>Least Squares</td>  <th>  F-statistic:       </th> <td>   14.31</td>\n",
       "</tr>\n",
       "<tr>\n",
       "  <th>Date:</th>             <td>Mon, 09 Oct 2017</td> <th>  Prob (F-statistic):</th> <td>1.07e-48</td>\n",
       "</tr>\n",
       "<tr>\n",
       "  <th>Time:</th>                 <td>18:57:30</td>     <th>  Log-Likelihood:    </th> <td> -2790.7</td>\n",
       "</tr>\n",
       "<tr>\n",
       "  <th>No. Observations:</th>      <td>   331</td>      <th>  AIC:               </th> <td>   5665.</td>\n",
       "</tr>\n",
       "<tr>\n",
       "  <th>Df Residuals:</th>          <td>   289</td>      <th>  BIC:               </th> <td>   5825.</td>\n",
       "</tr>\n",
       "<tr>\n",
       "  <th>Df Model:</th>              <td>    41</td>      <th>                     </th>     <td> </td>   \n",
       "</tr>\n",
       "<tr>\n",
       "  <th>Covariance Type:</th>      <td>nonrobust</td>    <th>                     </th>     <td> </td>   \n",
       "</tr>\n",
       "</table>\n",
       "<table class=\"simpletable\">\n",
       "<tr>\n",
       "            <td></td>              <th>coef</th>     <th>std err</th>      <th>t</th>      <th>P>|t|</th>  <th>[0.025</th>    <th>0.975]</th>  \n",
       "</tr>\n",
       "<tr>\n",
       "  <th>holiday</th>              <td> -504.8692</td> <td>  376.774</td> <td>   -1.340</td> <td> 0.181</td> <td>-1246.437</td> <td>  236.699</td>\n",
       "</tr>\n",
       "<tr>\n",
       "  <th>workingday</th>           <td>  -78.3221</td> <td>  242.127</td> <td>   -0.323</td> <td> 0.747</td> <td> -554.878</td> <td>  398.234</td>\n",
       "</tr>\n",
       "<tr>\n",
       "  <th>temp_norm</th>            <td>  793.8768</td> <td>  763.389</td> <td>    1.040</td> <td> 0.299</td> <td> -708.631</td> <td> 2296.385</td>\n",
       "</tr>\n",
       "<tr>\n",
       "  <th>atemp_norm</th>           <td>  880.3824</td> <td>  715.945</td> <td>    1.230</td> <td> 0.220</td> <td> -528.745</td> <td> 2289.510</td>\n",
       "</tr>\n",
       "<tr>\n",
       "  <th>humidity_norm</th>        <td> -675.3295</td> <td>  158.264</td> <td>   -4.267</td> <td> 0.000</td> <td> -986.826</td> <td> -363.833</td>\n",
       "</tr>\n",
       "<tr>\n",
       "  <th>windspeed_norm</th>       <td> -446.4038</td> <td>  149.948</td> <td>   -2.977</td> <td> 0.003</td> <td> -741.532</td> <td> -151.276</td>\n",
       "</tr>\n",
       "<tr>\n",
       "  <th>weather_1.0</th>          <td>  923.0406</td> <td>  594.656</td> <td>    1.552</td> <td> 0.122</td> <td> -247.366</td> <td> 2093.447</td>\n",
       "</tr>\n",
       "<tr>\n",
       "  <th>weather_2.0</th>          <td> 1104.9141</td> <td>  502.004</td> <td>    2.201</td> <td> 0.029</td> <td>  116.866</td> <td> 2092.962</td>\n",
       "</tr>\n",
       "<tr>\n",
       "  <th>day_of_week_0.0</th>      <td> -462.4486</td> <td>  248.640</td> <td>   -1.860</td> <td> 0.064</td> <td> -951.824</td> <td>   26.926</td>\n",
       "</tr>\n",
       "<tr>\n",
       "  <th>day_of_week_1.0</th>      <td> -239.5854</td> <td>  159.457</td> <td>   -1.503</td> <td> 0.134</td> <td> -553.429</td> <td>   74.259</td>\n",
       "</tr>\n",
       "<tr>\n",
       "  <th>day_of_week_2.0</th>      <td> -280.3233</td> <td>  188.566</td> <td>   -1.487</td> <td> 0.138</td> <td> -651.459</td> <td>   90.813</td>\n",
       "</tr>\n",
       "<tr>\n",
       "  <th>day_of_week_3.0</th>      <td>   -3.0325</td> <td>  200.247</td> <td>   -0.015</td> <td> 0.988</td> <td> -397.160</td> <td>  391.095</td>\n",
       "</tr>\n",
       "<tr>\n",
       "  <th>day_of_week_4.0</th>      <td> -119.9933</td> <td>  192.772</td> <td>   -0.622</td> <td> 0.534</td> <td> -499.408</td> <td>  259.422</td>\n",
       "</tr>\n",
       "<tr>\n",
       "  <th>day_of_week_5.0</th>      <td>   59.7432</td> <td>  187.628</td> <td>    0.318</td> <td> 0.750</td> <td> -309.547</td> <td>  429.033</td>\n",
       "</tr>\n",
       "<tr>\n",
       "  <th>season_1.0</th>           <td>-1493.1626</td> <td>  505.353</td> <td>   -2.955</td> <td> 0.003</td> <td>-2487.801</td> <td> -498.524</td>\n",
       "</tr>\n",
       "<tr>\n",
       "  <th>season_2.0</th>           <td> -729.5247</td> <td>  549.124</td> <td>   -1.329</td> <td> 0.185</td> <td>-1810.315</td> <td>  351.266</td>\n",
       "</tr>\n",
       "<tr>\n",
       "  <th>season_3.0</th>           <td>   71.1170</td> <td>  422.825</td> <td>    0.168</td> <td> 0.867</td> <td> -761.090</td> <td>  903.324</td>\n",
       "</tr>\n",
       "<tr>\n",
       "  <th>month_2.0</th>            <td> -325.7395</td> <td>  415.794</td> <td>   -0.783</td> <td> 0.434</td> <td>-1144.107</td> <td>  492.628</td>\n",
       "</tr>\n",
       "<tr>\n",
       "  <th>month_3.0</th>            <td> -311.7359</td> <td>  465.982</td> <td>   -0.669</td> <td> 0.504</td> <td>-1228.885</td> <td>  605.413</td>\n",
       "</tr>\n",
       "<tr>\n",
       "  <th>month_4.0</th>            <td> -429.5823</td> <td>  676.680</td> <td>   -0.635</td> <td> 0.526</td> <td>-1761.428</td> <td>  902.264</td>\n",
       "</tr>\n",
       "<tr>\n",
       "  <th>month_5.0</th>            <td>-1024.8594</td> <td>  711.364</td> <td>   -1.441</td> <td> 0.151</td> <td>-2424.970</td> <td>  375.251</td>\n",
       "</tr>\n",
       "<tr>\n",
       "  <th>month_6.0</th>            <td>-1466.6541</td> <td>  734.348</td> <td>   -1.997</td> <td> 0.047</td> <td>-2912.002</td> <td>  -21.306</td>\n",
       "</tr>\n",
       "<tr>\n",
       "  <th>month_7.0</th>            <td>-1427.6739</td> <td>  798.423</td> <td>   -1.788</td> <td> 0.075</td> <td>-2999.136</td> <td>  143.788</td>\n",
       "</tr>\n",
       "<tr>\n",
       "  <th>month_8.0</th>            <td>-1720.6375</td> <td>  791.728</td> <td>   -2.173</td> <td> 0.031</td> <td>-3278.922</td> <td> -162.353</td>\n",
       "</tr>\n",
       "<tr>\n",
       "  <th>month_9.0</th>            <td>-1055.9093</td> <td>  726.079</td> <td>   -1.454</td> <td> 0.147</td> <td>-2484.983</td> <td>  373.165</td>\n",
       "</tr>\n",
       "<tr>\n",
       "  <th>month_10.0</th>           <td> -882.2336</td> <td>  692.220</td> <td>   -1.274</td> <td> 0.204</td> <td>-2244.665</td> <td>  480.198</td>\n",
       "</tr>\n",
       "<tr>\n",
       "  <th>month_11.0</th>           <td> -773.6133</td> <td>  656.762</td> <td>   -1.178</td> <td> 0.240</td> <td>-2066.257</td> <td>  519.030</td>\n",
       "</tr>\n",
       "<tr>\n",
       "  <th>month_12.0</th>           <td> -480.9222</td> <td> 1027.332</td> <td>   -0.468</td> <td> 0.640</td> <td>-2502.924</td> <td> 1541.080</td>\n",
       "</tr>\n",
       "<tr>\n",
       "  <th>const</th>                <td> 6035.4428</td> <td>  902.323</td> <td>    6.689</td> <td> 0.000</td> <td> 4259.486</td> <td> 7811.400</td>\n",
       "</tr>\n",
       "<tr>\n",
       "  <th>temp_norm_2</th>          <td>-1796.4144</td> <td>  817.390</td> <td>   -2.198</td> <td> 0.029</td> <td>-3405.207</td> <td> -187.621</td>\n",
       "</tr>\n",
       "<tr>\n",
       "  <th>atemp_norm_2</th>         <td> 1167.1361</td> <td>  790.067</td> <td>    1.477</td> <td> 0.141</td> <td> -387.880</td> <td> 2722.152</td>\n",
       "</tr>\n",
       "<tr>\n",
       "  <th>humidity_norm_2</th>      <td>  -56.3479</td> <td>  155.509</td> <td>   -0.362</td> <td> 0.717</td> <td> -362.421</td> <td>  249.725</td>\n",
       "</tr>\n",
       "<tr>\n",
       "  <th>windspeed_norm_2</th>     <td>  -37.7429</td> <td>  127.475</td> <td>   -0.296</td> <td> 0.767</td> <td> -288.641</td> <td>  213.155</td>\n",
       "</tr>\n",
       "<tr>\n",
       "  <th>temp_norm_3</th>          <td>    1.6553</td> <td>  277.479</td> <td>    0.006</td> <td> 0.995</td> <td> -544.481</td> <td>  547.792</td>\n",
       "</tr>\n",
       "<tr>\n",
       "  <th>atemp_norm_3</th>         <td> -297.6352</td> <td>  246.540</td> <td>   -1.207</td> <td> 0.228</td> <td> -782.877</td> <td>  187.607</td>\n",
       "</tr>\n",
       "<tr>\n",
       "  <th>humidity_norm_3</th>      <td>  -14.9630</td> <td>   44.946</td> <td>   -0.333</td> <td> 0.739</td> <td> -103.425</td> <td>   73.499</td>\n",
       "</tr>\n",
       "<tr>\n",
       "  <th>windspeed_norm_3</th>     <td>   44.3740</td> <td>   65.415</td> <td>    0.678</td> <td> 0.498</td> <td>  -84.376</td> <td>  173.124</td>\n",
       "</tr>\n",
       "<tr>\n",
       "  <th>temp_norm_4</th>          <td>  -44.4857</td> <td>  170.895</td> <td>   -0.260</td> <td> 0.795</td> <td> -380.843</td> <td>  291.872</td>\n",
       "</tr>\n",
       "<tr>\n",
       "  <th>atemp_norm_4</th>         <td>  -20.9201</td> <td>  147.604</td> <td>   -0.142</td> <td> 0.887</td> <td> -311.435</td> <td>  269.595</td>\n",
       "</tr>\n",
       "<tr>\n",
       "  <th>humidity_norm_4</th>      <td>  -23.8429</td> <td>   31.490</td> <td>   -0.757</td> <td> 0.450</td> <td>  -85.822</td> <td>   38.136</td>\n",
       "</tr>\n",
       "<tr>\n",
       "  <th>windspeed_norm_4</th>     <td>  -19.2421</td> <td>   30.292</td> <td>   -0.635</td> <td> 0.526</td> <td>  -78.862</td> <td>   40.378</td>\n",
       "</tr>\n",
       "<tr>\n",
       "  <th>month_12xtemp_norm</th>   <td>   44.3435</td> <td>  714.542</td> <td>    0.062</td> <td> 0.951</td> <td>-1362.024</td> <td> 1450.711</td>\n",
       "</tr>\n",
       "<tr>\n",
       "  <th>workingdayxweather_1</th> <td>  165.0265</td> <td>  322.219</td> <td>    0.512</td> <td> 0.609</td> <td> -469.167</td> <td>  799.220</td>\n",
       "</tr>\n",
       "</table>\n",
       "<table class=\"simpletable\">\n",
       "<tr>\n",
       "  <th>Omnibus:</th>       <td>29.023</td> <th>  Durbin-Watson:     </th> <td>   1.960</td>\n",
       "</tr>\n",
       "<tr>\n",
       "  <th>Prob(Omnibus):</th> <td> 0.000</td> <th>  Jarque-Bera (JB):  </th> <td>  10.080</td>\n",
       "</tr>\n",
       "<tr>\n",
       "  <th>Skew:</th>          <td>-0.099</td> <th>  Prob(JB):          </th> <td> 0.00647</td>\n",
       "</tr>\n",
       "<tr>\n",
       "  <th>Kurtosis:</th>      <td> 2.168</td> <th>  Cond. No.          </th> <td>3.92e+16</td>\n",
       "</tr>\n",
       "</table>"
      ],
      "text/plain": [
       "<class 'statsmodels.iolib.summary.Summary'>\n",
       "\"\"\"\n",
       "                            OLS Regression Results                            \n",
       "==============================================================================\n",
       "Dep. Variable:                  count   R-squared:                       0.670\n",
       "Model:                            OLS   Adj. R-squared:                  0.623\n",
       "Method:                 Least Squares   F-statistic:                     14.31\n",
       "Date:                Mon, 09 Oct 2017   Prob (F-statistic):           1.07e-48\n",
       "Time:                        18:57:30   Log-Likelihood:                -2790.7\n",
       "No. Observations:                 331   AIC:                             5665.\n",
       "Df Residuals:                     289   BIC:                             5825.\n",
       "Df Model:                          41                                         \n",
       "Covariance Type:            nonrobust                                         \n",
       "========================================================================================\n",
       "                           coef    std err          t      P>|t|      [0.025      0.975]\n",
       "----------------------------------------------------------------------------------------\n",
       "holiday               -504.8692    376.774     -1.340      0.181   -1246.437     236.699\n",
       "workingday             -78.3221    242.127     -0.323      0.747    -554.878     398.234\n",
       "temp_norm              793.8768    763.389      1.040      0.299    -708.631    2296.385\n",
       "atemp_norm             880.3824    715.945      1.230      0.220    -528.745    2289.510\n",
       "humidity_norm         -675.3295    158.264     -4.267      0.000    -986.826    -363.833\n",
       "windspeed_norm        -446.4038    149.948     -2.977      0.003    -741.532    -151.276\n",
       "weather_1.0            923.0406    594.656      1.552      0.122    -247.366    2093.447\n",
       "weather_2.0           1104.9141    502.004      2.201      0.029     116.866    2092.962\n",
       "day_of_week_0.0       -462.4486    248.640     -1.860      0.064    -951.824      26.926\n",
       "day_of_week_1.0       -239.5854    159.457     -1.503      0.134    -553.429      74.259\n",
       "day_of_week_2.0       -280.3233    188.566     -1.487      0.138    -651.459      90.813\n",
       "day_of_week_3.0         -3.0325    200.247     -0.015      0.988    -397.160     391.095\n",
       "day_of_week_4.0       -119.9933    192.772     -0.622      0.534    -499.408     259.422\n",
       "day_of_week_5.0         59.7432    187.628      0.318      0.750    -309.547     429.033\n",
       "season_1.0           -1493.1626    505.353     -2.955      0.003   -2487.801    -498.524\n",
       "season_2.0            -729.5247    549.124     -1.329      0.185   -1810.315     351.266\n",
       "season_3.0              71.1170    422.825      0.168      0.867    -761.090     903.324\n",
       "month_2.0             -325.7395    415.794     -0.783      0.434   -1144.107     492.628\n",
       "month_3.0             -311.7359    465.982     -0.669      0.504   -1228.885     605.413\n",
       "month_4.0             -429.5823    676.680     -0.635      0.526   -1761.428     902.264\n",
       "month_5.0            -1024.8594    711.364     -1.441      0.151   -2424.970     375.251\n",
       "month_6.0            -1466.6541    734.348     -1.997      0.047   -2912.002     -21.306\n",
       "month_7.0            -1427.6739    798.423     -1.788      0.075   -2999.136     143.788\n",
       "month_8.0            -1720.6375    791.728     -2.173      0.031   -3278.922    -162.353\n",
       "month_9.0            -1055.9093    726.079     -1.454      0.147   -2484.983     373.165\n",
       "month_10.0            -882.2336    692.220     -1.274      0.204   -2244.665     480.198\n",
       "month_11.0            -773.6133    656.762     -1.178      0.240   -2066.257     519.030\n",
       "month_12.0            -480.9222   1027.332     -0.468      0.640   -2502.924    1541.080\n",
       "const                 6035.4428    902.323      6.689      0.000    4259.486    7811.400\n",
       "temp_norm_2          -1796.4144    817.390     -2.198      0.029   -3405.207    -187.621\n",
       "atemp_norm_2          1167.1361    790.067      1.477      0.141    -387.880    2722.152\n",
       "humidity_norm_2        -56.3479    155.509     -0.362      0.717    -362.421     249.725\n",
       "windspeed_norm_2       -37.7429    127.475     -0.296      0.767    -288.641     213.155\n",
       "temp_norm_3              1.6553    277.479      0.006      0.995    -544.481     547.792\n",
       "atemp_norm_3          -297.6352    246.540     -1.207      0.228    -782.877     187.607\n",
       "humidity_norm_3        -14.9630     44.946     -0.333      0.739    -103.425      73.499\n",
       "windspeed_norm_3        44.3740     65.415      0.678      0.498     -84.376     173.124\n",
       "temp_norm_4            -44.4857    170.895     -0.260      0.795    -380.843     291.872\n",
       "atemp_norm_4           -20.9201    147.604     -0.142      0.887    -311.435     269.595\n",
       "humidity_norm_4        -23.8429     31.490     -0.757      0.450     -85.822      38.136\n",
       "windspeed_norm_4       -19.2421     30.292     -0.635      0.526     -78.862      40.378\n",
       "month_12xtemp_norm      44.3435    714.542      0.062      0.951   -1362.024    1450.711\n",
       "workingdayxweather_1   165.0265    322.219      0.512      0.609    -469.167     799.220\n",
       "==============================================================================\n",
       "Omnibus:                       29.023   Durbin-Watson:                   1.960\n",
       "Prob(Omnibus):                  0.000   Jarque-Bera (JB):               10.080\n",
       "Skew:                          -0.099   Prob(JB):                      0.00647\n",
       "Kurtosis:                       2.168   Cond. No.                     3.92e+16\n",
       "==============================================================================\n",
       "\n",
       "Warnings:\n",
       "[1] Standard Errors assume that the covariance matrix of the errors is correctly specified.\n",
       "[2] The smallest eigenvalue is 2.52e-29. This might indicate that there are\n",
       "strong multicollinearity problems or that the design matrix is singular.\n",
       "\"\"\""
      ]
     },
     "execution_count": 20,
     "metadata": {},
     "output_type": "execute_result"
    }
   ],
   "source": [
    "# Fit Interaction OLS model\n",
    "intModel = sm.OLS(yTrain, intTrainPredict).fit()\n",
    "intModel.summary()"
   ]
  },
  {
   "cell_type": "code",
   "execution_count": 21,
   "metadata": {},
   "outputs": [
    {
     "data": {
      "text/plain": [
       "0.28297793302407059"
      ]
     },
     "execution_count": 21,
     "metadata": {},
     "output_type": "execute_result"
    }
   ],
   "source": [
    "yHatTest = intModel.predict(intTestPredict)\n",
    "r2_score(yTest, yHatTest)"
   ]
  },
  {
   "cell_type": "markdown",
   "metadata": {},
   "source": [
    "R-squared improved, interaction terms statistically insignificant"
   ]
  },
  {
   "cell_type": "markdown",
   "metadata": {},
   "source": [
    "## Part (h): PCA to deal with high dimensionality\n",
    "\n",
    "We would like to fit a model to include all main effects, polynomial terms up to the $4^{th}$ order, and all interactions between all possible predictors and polynomial terms (not including the interactions between $X^1_j$, $X^2_j$, $X^3_j$, and $X^4_j$ as they would just create higher order polynomial terms).  \n",
    "\n",
    "- Create an expanded training set including all the desired terms mentioned above.  What are the dimensions of this 'design matrix' of all the predictor variables?   What are the issues with attempting to fit a regression model using all of these predictors?\n",
    "\n",
    "- Instead of using the usual approaches for model selection, let's instead use principal components analysis (PCA) to fit the model.  First, create the principal component vectors in python (consider: should you normalize first?).  Then fit 5 different regression models: (1) using just the first PCA vector, (2) using the first two PCA vectors, (3) using the first three PCA vectors, etc...  Briefly summarize how these models compare in the training set.\n",
    "\n",
    "- Use the test set to decide which of the 5 models above is best to predict out of sample.  How does this model compare to the previous models you've fit?  What are the interpretations of this model's coefficients?"
   ]
  },
  {
   "cell_type": "markdown",
   "metadata": {},
   "source": [
    "https://plot.ly/ipython-notebooks/principal-component-analysis/"
   ]
  },
  {
   "cell_type": "code",
   "execution_count": 64,
   "metadata": {},
   "outputs": [
    {
     "name": "stdout",
     "output_type": "stream",
     "text": [
      "There are 40920 predictors in this new design matrix.\n"
     ]
    }
   ],
   "source": [
    "xTest = testPredict\n",
    "yTest = testBinaryDf[\"count\"]\n",
    "\n",
    "xTrain = trainPredict\n",
    "yTrain = trainBinaryDf[\"count\"]\n",
    "\n",
    "genPolyTerms = PolynomialFeatures(degree=4, interaction_only=False)\n",
    "\n",
    "xTrainPoly = []\n",
    "xTestPoly = []\n",
    "\n",
    "xTrainPoly.append(genPolyTerms.fit_transform(xTrain))\n",
    "xTestPoly.append(genPolyTerms.fit_transform(xTest))\n",
    "\n",
    "print(\"There are {} predictors in this new design matrix.\".format(xTrainPoly[0].shape[1]))"
   ]
  },
  {
   "cell_type": "code",
   "execution_count": 41,
   "metadata": {},
   "outputs": [],
   "source": [
    "pcaXTrainVals = []\n",
    "pcaXTestVals = []\n",
    "for i in range(1,6):\n",
    "    pca = PCA(n_components=i)\n",
    "    pca.fit(xTrainPoly[0])\n",
    "    xPCA = pca.transform(xTrainPoly[0])\n",
    "    xTestPCA = pca.transform(xTestPoly[0])\n",
    "    pcaXTrainVals.append(xPCA)\n",
    "    pcaXTestVals.append(xTestPCA)"
   ]
  },
  {
   "cell_type": "code",
   "execution_count": 52,
   "metadata": {},
   "outputs": [],
   "source": [
    "trainPCAModels = []\n",
    "r2sTrain = []\n",
    "r2sTest = []\n",
    "\n",
    "for i, data in enumerate(pcaXTrainVals):\n",
    "    regPCAModel = LinearRegression(fit_intercept=True)\n",
    "    regPCAModel.fit(data, yTrain)\n",
    "    r2sTrain.append(regPCAModel.score(data, yTrain))\n",
    "    r2sTest.append(regPCAModel.score(pcaXTestVals[i], yTest))\n",
    "    trainPCAModels.append(regPCAModel)"
   ]
  },
  {
   "cell_type": "code",
   "execution_count": 53,
   "metadata": {},
   "outputs": [
    {
     "data": {
      "text/plain": [
       "([0.12699183895599642,\n",
       "  0.17662017686760612,\n",
       "  0.24654454534182146,\n",
       "  0.2801586385089947,\n",
       "  0.34565326518812955],\n",
       " [0.0715637830880268,\n",
       "  0.14324347521291514,\n",
       "  0.17721909900089949,\n",
       "  0.14923993088243681,\n",
       "  0.13943340988496089])"
      ]
     },
     "execution_count": 53,
     "metadata": {},
     "output_type": "execute_result"
    }
   ],
   "source": [
    "r2sTrain, r2sTest"
   ]
  },
  {
   "cell_type": "code",
   "execution_count": 69,
   "metadata": {},
   "outputs": [
    {
     "name": "stdout",
     "output_type": "stream",
     "text": [
      "The coefficients are: [-34.95509138 -32.72310643  48.22780641].\n",
      "The intercept is: 4598.447129909366.\n"
     ]
    }
   ],
   "source": [
    "pcaGoalModel = trainPCAModels[2]\n",
    "print(\"The coefficients are: {}.\".format(pcaGoalModel.coef_))\n",
    "print(\"The intercept is: {}.\".format(pcaGoalModel.intercept_))"
   ]
  },
  {
   "cell_type": "markdown",
   "metadata": {},
   "source": [
    "## Part (i): Beyond Squared Error\n",
    "\n",
    "We have seen in class that the multiple linear regression method optimizes the Mean Squared Error (MSE) on the training set. Consider the following alternate evaluation metric, referred to as the Root Mean Squared Logarthmic Error (RMSLE):\n",
    "\n",
    "$$\n",
    "\\sqrt{\\frac{1}{n}\\sum_{i=1}^n (log(y_i+1) - log(\\hat{y}_i+1))^2}.\n",
    "$$\n",
    "\n",
    "The *lower* the RMSLE the *better* is the performance of a model. The RMSLE penalizes errors on smaller responses more heavily than errors on larger responses. For example, the RMSLE penalizes a prediction of $\\hat{y} = 15$ for a true response of $y=10$ more heavily than a prediction of $\\hat{y} = 105$ for a true response of $100$, though the difference in predicted and true responses are the same in both cases. \n",
    "\n",
    "This is a natural evaluation metric for bike share demand prediction, as in this application, it is more important that the prediction model is accurate on days where the demand is low (so that the few customers who arrive are served satisfactorily), compared to days on which the demand is high (when it is less damaging to lose out on some customers).\n",
    "\n",
    "The following code computes the RMSLE for you:"
   ]
  },
  {
   "cell_type": "code",
   "execution_count": 71,
   "metadata": {
    "collapsed": true
   },
   "outputs": [],
   "source": [
    "#--------  rmsle\n",
    "# A function for evaluating Root Mean Squared Logarithmic Error (RMSLE)\n",
    "# of the linear regression model on a data set\n",
    "# Input: \n",
    "#      y_test (n x 1 array of response variable vals in testing data)\n",
    "#      y_pred (n x 1 array of response variable vals in testing data)\n",
    "# Return: \n",
    "#      RMSLE (float) \n",
    "\n",
    "def rmsle(y, y_pred):     \n",
    "    # Evaluate sqaured error, against target labels\n",
    "    # rmsle = \\sqrt(1/n \\sum_i (log (y[i]+1) - log (y_pred[i]+1))^2)\n",
    "    rmsle_ = np.sqrt(np.mean(np.square(np.log(y+1) - np.log(y_pred+1))))\n",
    "    \n",
    "    return rmsle_"
   ]
  },
  {
   "cell_type": "markdown",
   "metadata": {},
   "source": [
    "Use the above code to compute the training and test RMSLE for the polynomial regression model you fit in Part (g). \n",
    "\n",
    "You are required to develop a strategy to fit a regression model by optimizing the RMSLE on the training set. Give a justification for your proposed approach. Does the model fitted using your approach yield lower train RMSLE than the model in Part (g)? How about the test RMSLE of the new model? \n",
    "\n",
    "**Note:** We do not require you to implement a new regression solver for RMSLE. Instead, we ask you to think about ways to use existing built-in functions to fit a model that performs well on RMSLE. Your regression model may use the same polynomial terms used in Part (g)."
   ]
  },
  {
   "cell_type": "code",
   "execution_count": 74,
   "metadata": {},
   "outputs": [
    {
     "name": "stdout",
     "output_type": "stream",
     "text": [
      "RMSLE for the model in part g: 0.512416016896841\n"
     ]
    },
    {
     "name": "stderr",
     "output_type": "stream",
     "text": [
      "/Applications/anaconda/lib/python3.6/site-packages/ipykernel_launcher.py:13: RuntimeWarning: invalid value encountered in log\n",
      "  del sys.path[0]\n"
     ]
    }
   ],
   "source": [
    "# your code here\n",
    "yTest = testBinaryDf[\"count\"]\n",
    "\n",
    "yHatTest = intModel.predict(intTestPredict)\n",
    "print(\"RMSLE for the model in part g: {}\".format(rmsle(yTest, yHatTest)))\n",
    "\n"
   ]
  },
  {
   "cell_type": "code",
   "execution_count": 78,
   "metadata": {},
   "outputs": [
    {
     "name": "stderr",
     "output_type": "stream",
     "text": [
      "/Applications/anaconda/lib/python3.6/site-packages/ipykernel_launcher.py:13: RuntimeWarning: invalid value encountered in log\n",
      "  del sys.path[0]\n"
     ]
    },
    {
     "name": "stdout",
     "output_type": "stream",
     "text": [
      "Predictors: ['const', 'month_10.0', 'humidity_norm_4', 'day_of_week_3.0', 'month_7.0', 'workingday', 'month_11.0']\n",
      "RMSLEs: [0.67285534461520591, 0.67024869076337867, 0.66959534817663324, 0.66886639982955487, 0.66865077761394842, 0.66841303838264343, 0.66831993182768401]\n"
     ]
    }
   ],
   "source": [
    "# Implement step-wise forward selection\n",
    "import sys\n",
    "# The set of predictors\n",
    "predictors = list(intTrainPredict)\n",
    "\n",
    "\n",
    "forwardPredictors = []\n",
    "forwardModels = []\n",
    "RMSLEs = []\n",
    "\n",
    "for _ in range(len(predictors)):   \n",
    "    \n",
    "    betterModel, betterPredictor, betterRMSLE = None, None, sys.maxsize\n",
    "    \n",
    "    for addedPredictor in predictors:\n",
    "        X = intTrainPredict[forwardPredictors + [addedPredictor]]\n",
    "        newModel = sm.OLS(yTrain, X).fit()\n",
    "        yHat = newModel.predict(X)\n",
    "        rmsleVal = rmsle(yTest, yHat)\n",
    "        \n",
    "        bestRMSLE = min(RMSLEs + [betterRMSLE])\n",
    "        if rmsleVal < bestRMSLE:\n",
    "            betterModel = newModel\n",
    "            betterPredictor = addedPredictor\n",
    "            betterRMSLE = rmsleVal\n",
    "\n",
    "    if betterModel:\n",
    "        forwardModels.append(betterModel)\n",
    "        forwardPredictors.append(betterPredictor)\n",
    "        predictors.remove(betterPredictor)\n",
    "        RMSLEs.append(betterRMSLE)\n",
    "    else:\n",
    "        break\n",
    "\n",
    "print(\"Predictors: {}\".format(forwardPredictors))\n",
    "print(\"RMSLEs: {}\".format(RMSLEs))"
   ]
  },
  {
   "cell_type": "code",
   "execution_count": 80,
   "metadata": {},
   "outputs": [
    {
     "name": "stdout",
     "output_type": "stream",
     "text": [
      "RMSLE for the new forward stepwise model: 0.6408453842052385\n"
     ]
    },
    {
     "name": "stderr",
     "output_type": "stream",
     "text": [
      "/Applications/anaconda/lib/python3.6/site-packages/ipykernel_launcher.py:13: RuntimeWarning: invalid value encountered in log\n",
      "  del sys.path[0]\n"
     ]
    }
   ],
   "source": [
    "yHatTest = forwardModels[-1].predict(intTestPredict[forwardPredictors])\n",
    "print(\"RMSLE for the new forward stepwise model: {}\".format(rmsle(yTest, yHatTest)))"
   ]
  },
  {
   "cell_type": "markdown",
   "metadata": {},
   "source": [
    "your answers here"
   ]
  },
  {
   "cell_type": "markdown",
   "metadata": {},
   "source": [
    "## Part (j): Dealing with Erroneous Labels\n",
    "\n",
    "Due to occasional system crashes, some of the bike counts reported in the data set have been recorded manually. These counts are not very unreliable and are prone to errors. It is known that roughly 5% of the labels in the training set are erroneous (i.e. can be arbitrarily different from the true counts), while all the labels in the test set were confirmed to be accurate. Unfortunately, the identities of the erroneous records in the training set are not available. Can this information about presence of 5% errors in the training set labels (without details about the specific identities of the erroneous rows) be used to improve the performance of the model in Part (g)? Note that we are interested in improving the $R^2$ performance of the model on the test set (not the training $R^2$ score). \n",
    "\n",
    "As a final task, we require you to come up with a strategy to fit a regression model, taking into account the errors in the training set labels. Explain the intuition behind your approach (we do not expect a detailed mathematical justification). Use your approach to fit a regression model on the training set, and compare its test $R^2$ with the model in Part (g).\n",
    "\n",
    "**Note:** Again, we do not require you to implement a new regression solver for handling erroneous labels. It is sufficient that you to come up with an approach that uses existing built-in functions. Your regression model may use the same polynomial terms used in Part (g)."
   ]
  },
  {
   "cell_type": "code",
   "execution_count": null,
   "metadata": {
    "collapsed": true
   },
   "outputs": [],
   "source": [
    "# your code here"
   ]
  },
  {
   "cell_type": "code",
   "execution_count": null,
   "metadata": {
    "collapsed": true
   },
   "outputs": [],
   "source": [
    "your answers here"
   ]
  },
  {
   "cell_type": "markdown",
   "metadata": {},
   "source": [
    "---\n",
    "--_"
   ]
  },
  {
   "cell_type": "markdown",
   "metadata": {},
   "source": [
    "# APCOMP209a - Homework Question"
   ]
  },
  {
   "cell_type": "markdown",
   "metadata": {},
   "source": [
    "\n",
    "\n",
    "##  Question 1: Student's t MLE\n",
    "\n",
    "Use Maximum Likelihood Estimation to generate a linear regression model on the data provided in ``beerdata.csv`` considering two statistical models for noise: a) iid Normal and b) iid Student's t-distribution with $\\nu=5$ and scale factor σ=0.5.  \n",
    "\n",
    "Compare the two models performances and comment why it is perhaps appropriate to use the Student's t-distribution instead of the Normal? \n",
    "\n",
    "\n",
    "\n",
    "\n",
    "\n",
    "HINTS:\n",
    "1. Use the probability density function for the Student's t distribution  with location μ and scale factor σ.\n",
    "2. If the MLE regressions coefficients can not be derived analytically consider numerical methods.\n",
    "3. You can use sklearn or statsmodel for the Normal case \n",
    "\n",
    "\n"
   ]
  },
  {
   "cell_type": "markdown",
   "metadata": {},
   "source": [
    "## Question 2 (continued from HW2) \n",
    "\n",
    "Read sections 1 and 2 of this [paper](https://www.researchgate.net/profile/Roberto_Togneri/publication/45094554_Linear_Regression_for_Face_Recognition/links/09e4150d243bd8b987000000/Linear-Regression-for-Face-Recognition.pdf). \n",
    "\n",
    "Briefly, the model leverages the concept that \"patterns from a single-object class lie on a linear subspace.\"   It also makes use of the idea of linear regression as a problem about projections.  In this case, given a vector $y$, the goal is to find the subspace induced by $\\mathrm{Col} \\, \\mathbf X$ that produced the 'closest' projection vector $\\widehat y$ to the original $y$.  \n",
    "\n",
    "### Question 2a\n",
    "\n",
    "As discussed in the paper, our face dataset contains cleaned images of faces belonging to different people. Assuming that patterns (faces) from one class (person) are elements of the same subspace, let's try to classify an unknown face using the method presented in the paper.  For each class $i$, we need to:\n",
    "\n",
    "1. construct the $\\mathbf H_i$ hat matrix from known faces, being careful to follow the column concatenation step described in the paper to convert an image into its vector representation;\n",
    "2. calculate the predicted $\\widehat y_i$, the closest vector in $\\mathrm{Col} \\, \\mathbf X_i$ to $y$; and\n",
    "3. calculate the magnitude of the difference vector between $y$ and $\\widehat y_i$.\n",
    "\n",
    "You should then be able to make a classification decision.\n",
    "\n",
    "**Notes:**\n",
    "- Use the provided code to download and re-sample the dataset.\n",
    "- Follow the normalisation step in the paper to ensure the \"maximum pixel value is 1\".\n",
    "- Your classifier should have approximately an 80% accuracy.\n",
    "- Use the image plotting library of matplotlib to display one (or two) correctly classified faces and the known faces.\n",
    "- Use the image plotting library of matplotlib to display one (or two) incorrectly classified faces and the known faces.\n",
    "    \n",
    "### Question 2b - Significant Faces\n",
    "Select an example of a correctly classified face. Use statsmodels to investigate the most predictive columns (faces) that the model used in this regression:\n",
    "\n",
    "(i) Which columns (i.e. faces) make the highest contribution to the projection?\n",
    "\n",
    "(ii) Which columns (i.e. faces) are the least useful in making this projection?\n",
    "\n",
    "Plot the correctly assigned face, and the two faces from the questions (i) and (ii). What do you notice about these faces?"
   ]
  },
  {
   "cell_type": "code",
   "execution_count": null,
   "metadata": {
    "collapsed": true
   },
   "outputs": [],
   "source": [
    "from io import BytesIO\n",
    "from zipfile import ZipFile\n",
    "import urllib\n",
    "import os\n",
    "\n",
    "# Note that you may need to run the following command to install Python Image Library (PIL)\n",
    "#pip install Pillow\n",
    "from PIL import Image\n",
    "import numpy as np\n",
    "from sklearn.cross_validation import train_test_split\n",
    "\n",
    "import matplotlib\n",
    "import matplotlib.pyplot as plt\n",
    "\n",
    "%matplotlib inline"
   ]
  },
  {
   "cell_type": "code",
   "execution_count": null,
   "metadata": {
    "collapsed": true
   },
   "outputs": [],
   "source": [
    "# starter functions provided to students\n",
    "def rgb2gray(rgb):\n",
    "    '''\n",
    "    function to convert RGB image to gray scale\n",
    "    accepts 3D numpy array and returns 2D array with same dimensions\n",
    "    as the first two dimensions of input\n",
    "    '''\n",
    "    \n",
    "    return np.dot(rgb[...,:3], [0.299, 0.587, 0.114])\n",
    "\n",
    "def fetch_and_read_data(shape=(50,30)):\n",
    "    \n",
    "    '''\n",
    "    Function to download image data, store in a local folder (note this is 18.4mb), only download the data when\n",
    "    the local folder is not present, read in the images, downsample them to the specified shape (default = (50x30) (rows x cols))\n",
    "    and finally split them into a four tuple return object.\n",
    "    \n",
    "    Returns:\n",
    "        - 1) training image data (i.e. images that should form the predictor matrix in your solution)\n",
    "        - 2) training image data labels (i.e. labels from 1 to 50 that identify which face (1) belongs to)\n",
    "        - 3) testing image data (i.e. data that you should use to try and classify - note this forms the predictor variable in your regression)\n",
    "        - 4) testing image data labels (i.e. the labels for (3) - this is to allow you to evaluate your model)\n",
    "    \n",
    "    ___________________\n",
    "    Aside:\n",
    "    If you want to change the sampling dimensions of your data, pass the shape = (x,y) argument to the method where\n",
    "    y is the number of columns and x is the number of rows in the image.\n",
    "    '''\n",
    "    \n",
    "    if not os.path.exists('./cropped_faces'):\n",
    "        url = urllib.request.urlopen(\"http://www.anefian.com/research/GTdb_crop.zip\")\n",
    "        \n",
    "        zipfile = ZipFile(BytesIO(url.read()))\n",
    "        zipfile.extractall()\n",
    "     \n",
    "    data = []\n",
    "    labels = []\n",
    "    \n",
    "    files = os.listdir('cropped_faces')\n",
    "    for f in files:\n",
    "        if '.jpg' in f:\n",
    "            image = Image.open('cropped_faces/' + f)\n",
    "            image = image.resize((shape[1], shape[0]))\n",
    "            data.append(rgb2gray(np.asarray(image)))\n",
    "            labels.append(int(f.split('_')[0][1:]) - 1)\n",
    "            \n",
    "    data = np.array(data)\n",
    "    \n",
    "    trainX, testX, trainY, testY = train_test_split(data, labels, test_size=0.2, stratify=labels)\n",
    "    return np.array(trainX), np.array(testX), np.array(trainY), np.array(testY)"
   ]
  },
  {
   "cell_type": "code",
   "execution_count": null,
   "metadata": {
    "collapsed": true
   },
   "outputs": [],
   "source": [
    "# starter code for the students\n",
    "train_dataset, test_dataset, train_labels, test_labels = fetch_and_read_data()\n",
    "\n",
    "# code to plot some of the images\n",
    "fig, axes = plt.subplots(2,4,figsize=(10,5))\n",
    "axes = axes.flatten()\n",
    "[axes[i].imshow(train_dataset[i], cmap='gray') for i in range(len(axes))]\n",
    "plt.show()"
   ]
  },
  {
   "cell_type": "code",
   "execution_count": null,
   "metadata": {
    "collapsed": true
   },
   "outputs": [],
   "source": []
  }
 ],
 "metadata": {
  "anaconda-cloud": {},
  "kernelspec": {
   "display_name": "Python 3",
   "language": "python",
   "name": "python3"
  },
  "language_info": {
   "codemirror_mode": {
    "name": "ipython",
    "version": 3
   },
   "file_extension": ".py",
   "mimetype": "text/x-python",
   "name": "python",
   "nbconvert_exporter": "python",
   "pygments_lexer": "ipython3",
   "version": "3.6.1"
  }
 },
 "nbformat": 4,
 "nbformat_minor": 1
}
